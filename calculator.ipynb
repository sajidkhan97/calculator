{
 "cells": [
  {
   "cell_type": "code",
   "execution_count": 10,
   "metadata": {},
   "outputs": [],
   "source": [
    "from tkinter import *\n",
    "root=Tk()\n",
    "e=Entry(root,width=35,borderwidth=4)\n",
    "e.grid(row=0,column=0,columnspan=3,padx=30)\n",
    "def number_input(number):\n",
    "    current=e.get()\n",
    "    e.delete(0,END)\n",
    "    e.insert(0,str(current)+ str(number))\n",
    "def clear_values():\n",
    "    e.delete(0,END)\n",
    "n1=[]\n",
    "def sum_values():\n",
    "    num1=e.get()\n",
    "    n1.append(int(num1))\n",
    "    e.delete(0,END)\n",
    "def equals():\n",
    "    num1=e.get()\n",
    "    n1.append(int(num1))\n",
    "    e.delete(0,END)\n",
    "s=0\n",
    "for i in n1:\n",
    "    s+=i\n",
    "e.insert(0,s)\n",
    "bttn9=Button(root,text=\"9\",padx=40,pady=20,command=lambda: number_input(9)).grid(row=1,column=0)\n",
    "bttn8=Button(root,text=\"8\",padx=40,pady=20,command=lambda: number_input(8)).grid(row=1,column=1)\n",
    "bttn7=Button(root,text=\"7\",padx=40,pady=20,command=lambda: number_input(7)).grid(row=1,column=2)\n",
    "bttn6=Button(root,text=\"6\",padx=40,pady=20,command=lambda: number_input(6)).grid(row=2,column=0)\n",
    "bttn5=Button(root,text=\"5\",padx=40,pady=20,command=lambda: number_input(5)).grid(row=2,column=1)\n",
    "bttn4=Button(root,text=\"4\",padx=40,pady=20,command=lambda: number_input(4)).grid(row=2,column=2)\n",
    "bttn3=Button(root,text=\"3\",padx=40,pady=20,command=lambda: number_input(3)).grid(row=3,column=0)\n",
    "bttn2=Button(root,text=\"2\",padx=40,pady=20,command=lambda: number_input(2)).grid(row=3,column=1)\n",
    "bttn1=Button(root,text=\"1\",padx=40,pady=20,command=lambda: number_input(1)).grid(row=3,column=2)\n",
    "bttn0=Button(root,text=\"0\",padx=40,pady=20,command=lambda: number_input(0)).grid(row=4,column=0)\n",
    "buttn_add=Button(root,text=\"+\",padx=80,pady=20,command=sum_values).grid(row=1,column=1,columnspan=2)\n",
    "buttn_clear=Button(root,text=\"cls\",padx=35,pady=20,command=clear_values).grid(row=5,column=0)\n",
    "buttn_equal=Button(root,text=\"=\",padx=80,pady=20,command=equals).grid(row=5,column=1,columnspan=2)\n",
    "root.mainloop()\n",
    "    "
   ]
  },
  {
   "cell_type": "code",
   "execution_count": null,
   "metadata": {},
   "outputs": [],
   "source": []
  }
 ],
 "metadata": {
  "kernelspec": {
   "display_name": "Python 3",
   "language": "python",
   "name": "python3"
  },
  "language_info": {
   "codemirror_mode": {
    "name": "ipython",
    "version": 3
   },
   "file_extension": ".py",
   "mimetype": "text/x-python",
   "name": "python",
   "nbconvert_exporter": "python",
   "pygments_lexer": "ipython3",
   "version": "3.8.3"
  }
 },
 "nbformat": 4,
 "nbformat_minor": 4
}
